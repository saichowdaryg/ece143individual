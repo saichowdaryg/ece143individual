{
 "cells": [
  {
   "cell_type": "markdown",
   "metadata": {},
   "source": [
    "# Analysis of Ad-Hoc Communications Network"
   ]
  },
  {
   "cell_type": "markdown",
   "metadata": {},
   "source": [
    "__Problem Statement__: <br> You have been asked to help with planning an ad-hoc communications network over a large rectangular region. Each individual tower can monitor a rectangular subsection of a specific width and height. The main problem is that none of the individual towers can provide coverage for the entire region of interest. Communications towers are unreliable and are put up independently and at random. You have no control over where or how big a tower’s footprint is placed. Importantly, due to technical issues such as cross-talk, no individual rectangular subsection can have multiple towers providing coverage for it. That is, there can be no overlap between any pair of rectangular subsections provided by the two respective towers. In any case, the desire is to maximize the coverage area of any available communications tower."
   ]
  },
  {
   "cell_type": "markdown",
   "metadata": {},
   "source": [
    "__Constraints__:\n",
    "\n",
    "- No rectangule's footprint should be outside the area specified\n",
    "- Positions of rectangeles are randomly sampled\n",
    "- Coordinates of the rectangular areas are integer based\n",
    "- No overlap among the coverages of the towers\n",
    "- If there is a overlap then the new footprint must be trimmed, it should be trimmed in such a way that the final foot print is a sub rectangle and must have the maximum possible area as long as it does not have any overlap\n",
    "- If no such tower is possible then try generate a new tower in place of this (in case the total coverage is completely full then we can stop)"
   ]
  },
  {
   "cell_type": "markdown",
   "metadata": {},
   "source": [
    "I assume that the user gives me 3 inputs:\n",
    "1. l: The dimension of the region in the x direction.\n",
    "2. w: The dimension of the region in the y direction.\n",
    "3. n: The number of desired towers to be set up.\n",
    "<br>\n",
    "__NOTE__:The __convention followed__ in the entire code is as follows:\n",
    "- __origin is the top left corner of the plot__\n",
    "- the axes are as follows: \n",
    "![Example](plotex.png)\n",
    "- __length__ of the rectangle as represented by l_rect corresponds to the size of the rectangle along x axis\n",
    "- __width__ of the rectangle as represented by w_rect corresponds to the size of the rectangle along y axis\n",
    "- i.e length is not necessary the longest dimension it is the dimension alongx axis (Note this does not hinder anything as per the problem it is just a convention adopted to make it easy to read the code)\n",
    "- For the plot above length is 1 width is 2\n",
    "- __(i,j)__: i is the row index, j is the column index, for the plot above (5,9) is the top left corner"
   ]
  },
  {
   "cell_type": "code",
   "execution_count": 2,
   "metadata": {
    "collapsed": true
   },
   "outputs": [],
   "source": [
    "#Assuming the following inputs:\n",
    "# total rectangular area coordinates\n",
    "\n",
    "\n",
    "# Importing the required libraries etc\n",
    "import random # This is needed for various tasks like randomly selecting the rectangles, colors\n",
    "import numpy as np # Numpy arrays and its various functions is used to efficiently remember total coverage the filled area, check if a new tower has overlap etc\n",
    "import matplotlib.pyplot as plt # Basic library used for making the visualizations\n",
    "import matplotlib.patches as patches # Patches are used to store and plot multiple rectangles in a given figure\n",
    "from copy import copy # This is required for add_patch() in matplotlib to work as we reuire for this task\n",
    "%matplotlib inline \n",
    "# This is required as othrwise the plots cannot be seen within the jupyter notebook\n",
    "from IPython.display import Image # for displaying local images in the jupyter notebook\n"
   ]
  },
  {
   "cell_type": "markdown",
   "metadata": {},
   "source": [
    "I use classes to make it more readable and for the ease of re-implementation/debugging. We have main parts to to the solution:\n",
    " 1. Storing the Information of the grid in an appropriate datastructure\n",
    " 2. Sampling position and dimensions for a tower\n",
    " 3. Checking for overlaps\n",
    " 4. Finding the best sub rectangle if one exists\n",
    " 5. Plotting\n",
    "\n",
    "I address these in the following way\n"
   ]
  },
  {
   "cell_type": "markdown",
   "metadata": {},
   "source": [
    "#### Storing the Information of the grid in an appropriate datastructure\n",
    "\n",
    "#### Choosing the data srtucture:\n",
    "- We need to store the entire information of the coverage etc in a data structure in python\n",
    "- We will repeatedly be accessing it to check for overlaps etc so accessing the data must be fast. \n",
    "- We will also be making changes to the values stored in the grid quite often so the datastructure must enable us to modify the data quikcly. \n",
    "- Also in regard to th data stored (as explained below it will be 1's and 0's) all of the locations need to store data of the same datatype (int).\n",
    "- As far as the size is considered the size of the grid is constant so the object used can be of a static size.\n",
    "\n",
    "Due to all the reasons explained above Numpy arrays seem to be the best possible choice for the task as they have fast access to data, data can be modified fast, uniform data type, constat space, also as these are pre-compiled and very close to native c arrays they are extremely fast. So due to the entioned points I choose them over other possible choices like native python lists which would also work but would be much slower than my current choice of using numpy arrays.\n",
    "\n",
    "\n",
    "#### Storing the information in the NumPy arrays:\n",
    "I have two NumPyarrays which store the information about the grid:\n",
    "1. grid:\n",
    "        \n",
    "        Given a w x l area, we will have (w+1) x (l+1) integer base coordinate points,grid is a numpy array of size (width+1)x(length+1) whose each (i,j)th entry corresponds to a integer (i,j) coordinate point in the area to be covered. If a vertex is within the covered area the corresponding value is 1 otherwise 0.This is used to keep track of which of the points lie inside the covered area, initially all are initialized to zero.\n",
    "        Ex: The grid is initially for w=3,l=3 \n",
    "        [\n",
    "        [0,0,0,0],\n",
    "        [0,0,0,0],\n",
    "        [0,0,0,0],\n",
    "        [0,0,0,0]\n",
    "        ]\n",
    "        now let us say we insert a rectangle whose topleft corner is at (0,0) and has length 2 and width 3,\n",
    "        grid will be updated to\n",
    "        [\n",
    "        [1,1,1,0],\n",
    "        [1,1,1,0],\n",
    "        [1,1,1,0],\n",
    "        [1,1,1,0]\n",
    "        ]\n",
    "        In this way after each insertion we can keep updating the data and keep tracking about which of the vertices in the grid are covered. This is very useful for debugging/intuitively seeing how the algorithm works.\n",
    "        \n",
    "2. overlap_grid :\n",
    "        \n",
    "        \n",
    "        This is the important one of the two. The above one doesnot help much checking for overlap but this one does and in fact it providees an easy way to check for overlaps.Given an area of wxl, as pointed above that will have (w+1)x(l+1) integer based coordinates, now if we think carefully this will give us wxl unit squares in the grid. If we can somehow mark each of these unit squares as covered or not then we can quite easily check for overlaps etc and that is what ovrlap grid does, it is of size wxl and each element represents the coverage of network in the corresponding unit square in the given area. If there is network coverage the position corresponding to that unit square is 1 otherwise it is 0. So It is a numpy array of size width x length.    \n",
    "        Ex: If the grid (i.e the first array mentioned above) is \n",
    "        [\n",
    "        [1,1,1,0],\n",
    "        [1,1,1,0],\n",
    "        [1,1,1,0],\n",
    "        [1,1,1,0]\n",
    "        ]\n",
    "        we can assume grid is made up of wxl square of unit area, now we can efficiently keep track\n",
    "        of the coverage area in terms of these square by book keeping them in an w x l array which is the \n",
    "        overlap_grid. For the above case overlap_grid will be\n",
    "        [\n",
    "        [1,1,0],\n",
    "        [1,1,0],\n",
    "        [1,1,0],\n",
    "        ]\n",
    "So this is how the data regarding the coverage is stord in the code.  \n",
    "\n",
    "### Accessing and modifying each value is O(1), so for each new tower it is O(w.l)\n",
    "### Space complexity is also O(w.l) for this part"
   ]
  },
  {
   "cell_type": "markdown",
   "metadata": {},
   "source": [
    "#### Sampling position and dimensions for a tower\n",
    "\n",
    "Once we are done with deciding how to store the data the next task is determininng how to sample the the location and the dimensions of a rectangle:\n",
    "\n",
    "1. For this I assume that the position of the recangle is determined by sampling its top left corner. Other methods I tried were considering bottom right corner, which I disregarded as it was esier for me to visualize the rectangles using the top left corner rather than the bottom right corner(perhaps because I am right handed!), I disregarded the center as that posed extra difficulties/constraints for the next step i.e determining length and breadth (for example they only had to be even and could not be odd if  chose integer based center etc and it would simply make things complicated). So I choose the top left corner representation. \n",
    "\n",
    "2. I randomly(uniform) pick integers in the range [0,w-1] to pick i and [0,l-1]  to pick j and get (i,j) as my top left corner.\n",
    "\n",
    "3. Now I need to pick the length and width of the rectangle, I call as length the dimension i x directioon adn as width the dimension in y-direction, so for l_rect i pick random integers in range [1,l] and for w from range [1,w] if both of them satisfy tha conditions such that the footprint lies inside the area if the rectangle is placed at (i,j) sampled above then  (i,j,l_rect,w_rect) makes up out candidate rectabgle description. if they do not lie inside the region then l)rect,w_rect are resampled untill we get values that satisfy the required condition to lie inside.\n",
    "\n",
    "4. This approach of resampling was chosen rather than constraining the distribution at each stage as it is much easier and serves the purpose well.\n",
    "\n",
    "\n",
    "Ex: For l=10, w= 8,    (i,j)=(5,9) , l_rect=1 and w_rect=2 represents the following rectangle:\n",
    "![Example](plotex.png)"
   ]
  },
  {
   "cell_type": "markdown",
   "metadata": {},
   "source": [
    "#### Checking for overlaps\n",
    "\n",
    "As NumPy has a really convenient and efficient slicing system I wanted to make use of it for checking for overlaps in a fast efficeient and simple way, so if (i1,j1) is the top left corner of the rectangular footprint of a tower and if(i2,j2) is the bottom right corner of the rectangular footprint of a tower, then all we need to check if it overlaps or not is just to check the array overlap_grid we have particularly overlap_grid[i1:i2,j1:j2] and check if there is atleast one 1 in this slice which would indicate an overlap(this is done using np.any()). thus we have an easy way to check for overlaps.\n",
    "\n",
    "For example in the following case:\n",
    "\n",
    "![Example](overlap1.png)\n",
    "![Example](overlap2.png)\n",
    "\n",
    "\n",
    "\n",
    "### This is O(w.l)"
   ]
  },
  {
   "cell_type": "markdown",
   "metadata": {},
   "source": [
    "#### Finding the best sub rectangle if one exists\n",
    "Once we check if there is overlap or not we need to check find a way to trim. For this I follow the brute force method as follows:\n",
    "If the rectangle which has overlap is as follows:\n",
    "\n",
    "\n",
    "Then we consider all the possible sub rectangles inside this rectangle and check if they are valid or not i.e if they have zero overlap or not, then if we have such valid rectangles we select the one which has maximum area among these and then choose it.\n",
    "\n",
    "To explain better if the above rectangle is denoted by (1,2),l_rect=3,w_rect=2\n",
    "Then to consider all the possible sub rectangles we start off with choosing all the sub rectangles with top left corner as (1,2) and go over all of them by choosing the bottom right corner iteratively as shown below in first 3 cases:\n",
    "![Example](dd.png)\n",
    "\n",
    "and the top left corner aso should be given all the possible corners, i.e it could be (3,4) as shown above in row 4 column 2 and so on.\n",
    "\n",
    "\n",
    "So once we decide to follow this approach we just need to check for every sub rectangle if it has overlap or not and then choose the one with max area. If this is not possible i.e if the tower's footprint lies entirely inside the previous coverage then we return -1 to indicate that we could not place this tower, this ensures we that the program then goes and sample another tower candidate and without increasing the tower count(as we desire to have n towers). Sometime thi is difficult as what could happen is if one of the corners is not filled then they get filled only for a few particular kind of rectangles for ex if the top left corner in the grid is empty and all other area is filled then unless both values of the randomly smapleed top left cotner coordinate are 0 we will not get improvement, this needs 1/w x 1/l probability so it can be low and thus the algorithm may run for a while. Also it is possiblr that the first few toers i.e < n might completely fill the area so fo such a case I keep monitoring the area filled and in case the entire area is filled the program stops even ifnumber of towers is less than n.\n",
    "### This is O(w.l^4^)\n",
    "\n",
    "Example in a simulation:\n",
    "![Example](overlap1.png)\n",
    "![Example](overlap2.png)\n",
    "We realize there is an overlap and then trim it accordingly\n",
    "![Example](overlap3.png)"
   ]
  },
  {
   "cell_type": "markdown",
   "metadata": {},
   "source": [
    "#### Plotting:\n",
    "\n",
    "I use the matplotlib library for plotting the rectangles in the grid, I choose the colour of each rectangle randomly, I plot the grid after each new tower is proposed and after trimming if need be so that the user can clearly see how the algorithm works. "
   ]
  },
  {
   "cell_type": "markdown",
   "metadata": {},
   "source": [
    "## An example run can be seen below"
   ]
  },
  {
   "cell_type": "code",
   "execution_count": 24,
   "metadata": {
    "collapsed": true
   },
   "outputs": [],
   "source": [
    "class tower:\n",
    "    \"\"\"\n",
    "    'tower' is the class which encapsulates all the variables/attributes and the helper functions that\n",
    "    are needed. Once and object of class 'tower' is instantiated with the required length and breadth \n",
    "    of the area and number of towers toset up, calling .run() will run the entire simulation.\n",
    "    \n",
    "    Attributes:\n",
    "    w: length of the area along y axis\n",
    "    l: length of the area along x axis\n",
    "    n: number of towers\n",
    "    overlap_grid:grid to keep track of area covered\n",
    "    grid:grid to keep track of vertices covered\n",
    "    \n",
    "    \n",
    "    Methods:\n",
    "        run: call this to start the simulation\n",
    "     \"\"\"\n",
    "            \n",
    "    \n",
    "    def __init__(self,l=5,w=3,n=10,plot=True):\n",
    "        #plot is just to specify if we want plots or not\n",
    "        assert isinstance(l,int)\n",
    "        assert isinstance(w,int)\n",
    "        assert isinstance(n,int)\n",
    "        self.w=w                       # dimension along y axis \n",
    "        self.l=l                       # dimension along x axis\n",
    "        self.n=n                       # number of towers to be inserted\n",
    "        self.flag=True                 # flag to make sure only one simulation is run for instance\n",
    "        self.overlap_grid=self.prepare_overlap_grid() # prepares a grid to keep track of occupied area,\n",
    "                                                   # used for checking overlaps\n",
    "        self.grid=self.prepare_grid()  # prepares the grid to keep track of the occupied vertices, \n",
    "                                       # mostly useful for debugging  \n",
    "        self.rectangles=[]             # list to store the rectangular patches for visualization\n",
    "        self.colors=[\"#\"+''.join([random.choice('0123456789ABCDEF') for j in range(6)]) for i in range(self.n)]\n",
    "                                       #list of n randomly chosen colors (hex codes)\n",
    "        self.plot=plot\n",
    "    def run(self):\n",
    "        \"\"\"\n",
    "        runs the simulation.\n",
    "        once we create an instance of the class tower\n",
    "        calling t.run() will run the entire simulation along with visualization.\n",
    "        Can only be run once for another simulation we need to instantiate again.\n",
    "        \"\"\"\n",
    "        \n",
    "        i=0\n",
    "        while i < self.n and self.stats()<1  and self.flag:# run n times for each of the n towers or untill fully covered\n",
    "            ci,cj=self.generate_topleft()                   #generate a top left corner\n",
    "            l_rect,w_rect=self.generate_rectangle(ci,cj)    #generate length and width\n",
    "            retval=self.insert_rectangle(ci,cj,l_rect,w_rect,i) #try and insert the tower \n",
    "            \n",
    "            if retval!=-1:                                  # if tower is inserted successfully\n",
    "                i+=1 \n",
    "            else:\n",
    "                if self.plot:\n",
    "                    self.plot_grid()                            # if the tower could not be inserted plot the \n",
    "                                                            # visualization s that the user can visually see it\n",
    "                                                            \n",
    "        if not self.flag:                                   # if someone calls the run function twice\n",
    "            print('You can only run once, create a new instance again')\n",
    "        self.flag=False                                     # set flag to False after one run\n",
    "        return\n",
    "    \n",
    "    def prepare_grid(self):\n",
    "        \"\"\"\n",
    "        Prepares the grid which is a numpy array of size (width+1)x(length+1) each (i,j)th entry corresponds\n",
    "        to a integer (i,j) coordinate point in the area to be covered. This is used to keep track of which of\n",
    "        the points lie inside the covered area, initially all are initialized to zero.\n",
    "        Ex: If the grid is initially \n",
    "        [\n",
    "        [0,0,0,0],\n",
    "        [0,0,0,0],\n",
    "        [0,0,0,0],\n",
    "        [0,0,0,0]\n",
    "        ]\n",
    "        now let us say we insert a rectangle whose topleft corner is at (0,0) and has length 2 and width 3,\n",
    "        grid will be updated to\n",
    "        [\n",
    "        [1,1,1,0],\n",
    "        [1,1,1,0],\n",
    "        [1,1,1,0],\n",
    "        [1,1,1,0]\n",
    "        ]\n",
    "        This is useful for debugging.\n",
    "        \"\"\"\n",
    "        #called initialy to setup a numpy array of zeros\n",
    "        return np.zeros((self.w+1,self.l+1))\n",
    "    \n",
    "    def prepare_overlap_grid(self):\n",
    "        \"\"\"\n",
    "        Prepares the overlap_grid that is used while checking if there is an overlap or not\n",
    "        it is a numpy array of size width x length, if width=w and length = l as specified by the user\n",
    "        then we will clearly have (w+1) x (l+1) integer pairs (i,j) in the grid which are represented in\n",
    "        grid. \n",
    "        Ex: If the grid is\n",
    "        [\n",
    "        [1,1,1,0],\n",
    "        [1,1,1,0],\n",
    "        [1,1,1,0],\n",
    "        [1,1,1,0]\n",
    "        ]\n",
    "        we can assume grid is made up of wxl square of unit area, now we can efficiently keep track\n",
    "        of the coverage area in terms of these square by book keeping them in an w x l array which is the \n",
    "        overlap_grid. For the above case overlap_grid will be\n",
    "        [\n",
    "        [1,1,0],\n",
    "        [1,1,0],\n",
    "        [1,1,0],\n",
    "        ]\n",
    "        \"\"\"\n",
    "       #called initialy to setup the numpy array of zeros\n",
    "        return np.zeros((self.w,self.l))\n",
    "    \n",
    "    \n",
    "    \n",
    "    def generate_topleft(self):\n",
    "        \"\"\"\n",
    "        Randomly generates a candidate for the top left corner of a tower's footprint\n",
    "        \n",
    "        Returns:\n",
    "            tuple(int,int) \n",
    "            (ci,cj): top left corner for the next tower\n",
    "        \"\"\"\n",
    "                                                #called to generate topleft corner \n",
    "        ci=np.random.randint(0,self.w)          #using random.randint() ensures that we sample integer points\n",
    "        cj=np.random.randint(0,self.l)\n",
    "        return ci,cj\n",
    "    def generate_rectangle(self,ci,cj):\n",
    "        \"\"\"\n",
    "        Randomly generates a tuple for length,width for the new tower with (ci,cj) as its top left corner\n",
    "        (takes care that the length, width are valid)\n",
    "        Args:\n",
    "            ci,cj:\n",
    "            (ci,cj): top left corner for the tower\n",
    "        Returns:\n",
    "            tuple(int,int) \n",
    "            (l_rect,w_rect): length,width of the tower\n",
    "        \"\"\"\n",
    "                                                       # called to generate height and width\n",
    "        c=1\n",
    "        while c==1:\n",
    "            w_rect=np.random.randint(1,self.w)\n",
    "            l_rect=np.random.randint(1,self.l)\n",
    "            if ci+w_rect<=self.w and cj+l_rect<=self.l:# ensuring that the tower's footrint is within the area\n",
    "                c=0                           \n",
    "        return l_rect,w_rect\n",
    "    \n",
    "    def trim(self,ci,cj,l_rect,w_rect):\n",
    "        \"\"\"\n",
    "        Trims the new rectangle and finds the maximum area subrectangle that has no overlap with\n",
    "        the existing coverage\n",
    "        \n",
    "        Args:\n",
    "        ci:\n",
    "        cj:(ci,cj) is the top left corner\n",
    "        l_rect:length of the rectangle\n",
    "        w_rect:width of the rectangle\n",
    "        \n",
    "        Returns:\n",
    "        if it is possible to find a subrectangle with zero overlap the returns:\n",
    "        list [i,j,k,l]: (i,j) is the top left corner and (k,l) is the bottom right corner of the trimmed \n",
    "        rectangle\n",
    "        else return:\n",
    "        scalar: -1  \n",
    "        \"\"\"\n",
    "        #there is overlap so check all possible sub rectangles and\n",
    "        #choose the one with maximum area among the valid ones\n",
    "        \n",
    "        max_area=0\n",
    "        \n",
    "        for i in range(ci,ci+w_rect):\n",
    "            for j in range(cj,cj+l_rect):#(i,j) is the top left corner of the sub rectangle\n",
    "                for k in range(i+1,ci+w_rect+1):\n",
    "                    for l in range(j+1,cj+l_rect+1):      #(k,l) is the bottom right corner of the sub rectangle\n",
    "                        if not self.check_overlap(i,j,k,l): # checking if sub rectangle has overlap or not\n",
    "        \n",
    "                            candidate_area=(k-i)*(l-j)      \n",
    "                            if candidate_area>max_area:   # checking if the valid subrectangles area is  \n",
    "                                                          # greater than previous max\n",
    "                                max_area = candidate_area   \n",
    "                                rect=[i,j,k,l]\n",
    "        if max_area==0:                                   # checking if it was not possible to insert\n",
    "            return -1\n",
    "        else:\n",
    "            return rect\n",
    "                            \n",
    "            \n",
    "    \n",
    "    def check_overlap(self,i1,j1,i2,j2):\n",
    "        \"\"\"\n",
    "        Args:\n",
    "            i1(int):\n",
    "            j1(int):\n",
    "                    (i1,j1) is the top left corner of the rectangular footprint of a tower\n",
    "            i2(int):\n",
    "            j2(int):\n",
    "                    (i2,j2) is the bottom right corner of the rectangular footprint of a tower\n",
    "        Returns:\n",
    "            bool: True if the rectangle has overlap False if it has no overlap\n",
    "        \"\"\"\n",
    "        #to check if there is a overlap\n",
    "        \n",
    "        return np.any(self.overlap_grid[i1:i2,j1:j2]) # checking if any of the unit squares inside the \n",
    "                                                      # rectangle are occupied\n",
    "\n",
    "                                      \n",
    "    def update_values(self,i1,j1,i2,j2):\n",
    "        \"\"\"\n",
    "       \n",
    "        Updates(book keeping) the value of the overlap_grid and grid(inplace) so as to reflect the updated \n",
    "        occupied area/covered area\n",
    "        Args:\n",
    "            i1(int):\n",
    "            j1(int):\n",
    "                    (i1,j1) is the top left corner of the rectangular footprint of the new tower(after it is \n",
    "                    trimmed appropriately as required in case that is needed) that is being setup\n",
    "            i2(int):\n",
    "            j2(int):\n",
    "                    (i2,j2) is the bottom right corner of the rectangular footprint of the new tower(after \n",
    "                    it is trimmed appropriately as required in case that is needed) that is being setup\n",
    "        Returns:\n",
    "            (does everything in place)\n",
    "        \"\"\"\n",
    "        #to update the values in the grid after selecting the trimmed rectangle\n",
    "        self.overlap_grid[i1:i2,j1:j2]=1  # filling the covered vertices by 1\n",
    "        self.grid[i1:i2+1,j1:j2+1]=1      # filling the covered unit squares by 1\n",
    "        return \n",
    "                \n",
    "    def insert_rectangle(self,ci,cj,l_rect,w_rect,num):\n",
    "        \"\"\"\n",
    "        Inserts/tris to insert the new rectangle according to the rules given and plots the visualization\n",
    "        \n",
    "        Args:\n",
    "        ci:\n",
    "        cj:(ci,cj) is the top left corner\n",
    "        l_rect:length of the rectangle\n",
    "        w_rect:width of the rectangle\n",
    "        num: the number of the rectangle being inserted\n",
    "        \n",
    "        Returns:\n",
    "        scalar 1: if it is possible to insert the rectangle(with or without trimming)\n",
    "        scalar -1: if it is impossible to insert the new rectangle without having any overlap\n",
    "        \"\"\"\n",
    "        if self.check_overlap(ci,cj,ci+w_rect,cj+l_rect):     # check for overlap\n",
    "            self.rectangles.append(patches.Rectangle(         # append the untrimmed rectangle \n",
    "            (cj,ci), l_rect,w_rect,\n",
    "            color=self.colors[num],))\n",
    "            if self.plot:\n",
    "                self.plot_grid()                                  #visualize the untrimmed rectangle\n",
    "            self.rectangles=self.rectangles[:-1]\n",
    "            trimmed_rect=self.trim(ci,cj,l_rect,w_rect)       #try to trim\n",
    "            if trimmed_rect==-1:\n",
    "                return -1                                     #indicate if unable to find a trim \n",
    "            \n",
    "            \n",
    "            self.rectangles.append(patches.Rectangle(         #append the trimmed\n",
    "            (trimmed_rect[1],trimmed_rect[0]), trimmed_rect[3]-trimmed_rect[1],trimmed_rect[2]-trimmed_rect[0],\n",
    "            color=self.colors[num],))\n",
    "            self.update_values(trimmed_rect[0],trimmed_rect[1],trimmed_rect[2],trimmed_rect[3])\n",
    "                                                              #update both grids\n",
    "           \n",
    "\n",
    "            if self.plot:\n",
    "                self.plot_grid()                                   #visualize                            \n",
    "            return 1\n",
    "        else:\n",
    "                                                              #if no need of to trim\n",
    "            self.rectangles.append(patches.Rectangle(         #append the rectangle\n",
    "            (cj,ci), l_rect,w_rect,\n",
    "            color=self.colors[num],))\n",
    "            self.update_values(ci,cj,ci+w_rect,cj+l_rect)     #update both grids\n",
    "            \n",
    "            if self.plot:\n",
    "                self.plot_grid()                                  #visualize\n",
    "            return 1\n",
    "                                      \n",
    "    def stats(self):\n",
    "        \"\"\"\n",
    "        Calculates the proportion of area covered\n",
    "        \n",
    "        Returns:\n",
    "            float: proportion of area covered\n",
    "        \"\"\"\n",
    "        return np.sum(self.overlap_grid)*1.0/(self.w*self.l)\n",
    "    def plot_grid(self):\n",
    "        \"\"\"\n",
    "        Plots all the rectangular footprints for the towers etup untill the current time\n",
    "        \"\"\"\n",
    "        #references for plotting function:\n",
    "        # http://matthiaseisen.com/pp/patterns/p0203/ (this function is taken from this link and modified as needed)\n",
    "        #https://stackoverflow.com/questions/47554753/can-not-put-single-artist-in-more-than-one-figure\n",
    "        fig = plt.figure()\n",
    "        ax = fig.add_subplot(111, aspect='equal')\n",
    "        ax.set_ylim(ax.get_ylim()[::-1])\n",
    "                                                    # invert the axis\n",
    "        ax.xaxis.set_ticks(np.arange(0, self.l+1, 1))\n",
    "        ax.xaxis.tick_top()                         # and move the X-Axis      \n",
    "        ax.yaxis.set_ticks(np.arange(0, self.w+1, 1)) # set y-ticks\n",
    "        ax.yaxis.tick_left()                        # remove right y-Ticks\n",
    "        \n",
    "        ax.xaxis.set_label_position('top') \n",
    "        plt.xlabel('--- x -->', fontdict=None, labelpad=None)\n",
    "        plt.ylabel('<-- y ---', fontdict=None, labelpad=None)\n",
    "        for p in self.rectangles:                   #plotting the rectangles\n",
    "            ax.add_patch(copy(p))\n",
    "         \n",
    "        \n",
    "        "
   ]
  },
  {
   "cell_type": "code",
   "execution_count": 12,
   "metadata": {
    "scrolled": false
   },
   "outputs": [
    {
     "name": "stderr",
     "output_type": "stream",
     "text": [
      "/home/sai/anaconda3/lib/python3.5/site-packages/matplotlib/pyplot.py:524: RuntimeWarning: More than 20 figures have been opened. Figures created through the pyplot interface (`matplotlib.pyplot.figure`) are retained until explicitly closed and may consume too much memory. (To control this warning, see the rcParam `figure.max_open_warning`).\n",
      "  max_open_warning, RuntimeWarning)\n"
     ]
    },
    {
     "data": {
      "image/png": "[encoded data removed]",
      "text/plain": [
       "<matplotlib.figure.Figure at 0x7f3b56877c18>"
      ]
     },
     "metadata": {},
     "output_type": "display_data"
    },
    {
     "data": {
      "image/png": "[encoded data removed]",
      "text/plain": [
       "<matplotlib.figure.Figure at 0x7f3b55cf0b38>"
      ]
     },
     "metadata": {},
     "output_type": "display_data"
    },
    {
     "data": {
      "image/png": "[encoded data removed]",
      "text/plain": [
       "<matplotlib.figure.Figure at 0x7f3b55b39240>"
      ]
     },
     "metadata": {},
     "output_type": "display_data"
    },
    {
     "data": {
      "image/png": "[encoded data removed]",
      "text/plain": [
       "<matplotlib.figure.Figure at 0x7f3b555b25c0>"
      ]
     },
     "metadata": {},
     "output_type": "display_data"
    },
    {
     "data": {
      "image/png": "[encoded data removed]",
      "text/plain": [
       "<matplotlib.figure.Figure at 0x7f3b861992e8>"
      ]
     },
     "metadata": {},
     "output_type": "display_data"
    },
    {
     "data": {
      "image/png": "[encoded data removed]",
      "text/plain": [
       "<matplotlib.figure.Figure at 0x7f3b55887080>"
      ]
     },
     "metadata": {},
     "output_type": "display_data"
    },
    {
     "data": {
      "image/png": "[encoded data removed]",
      "text/plain": [
       "<matplotlib.figure.Figure at 0x7f3b5587cda0>"
      ]
     },
     "metadata": {},
     "output_type": "display_data"
    },
    {
     "data": {
      "image/png": "[encoded data removed]",
      "text/plain": [
       "<matplotlib.figure.Figure at 0x7f3b559136a0>"
      ]
     },
     "metadata": {},
     "output_type": "display_data"
    },
    {
     "data": {
      "image/png": "[encoded data removed]",
      "text/plain": [
       "<matplotlib.figure.Figure at 0x7f3b55a6f198>"
      ]
     },
     "metadata": {},
     "output_type": "display_data"
    },
    {
     "data": {
      "image/png": "[encoded data removed]",
      "text/plain": [
       "<matplotlib.figure.Figure at 0x7f3b558b0978>"
      ]
     },
     "metadata": {},
     "output_type": "display_data"
    },
    {
     "data": {
      "image/png": "[encoded data removed]",
      "text/plain": [
       "<matplotlib.figure.Figure at 0x7f3b5572a860>"
      ]
     },
     "metadata": {},
     "output_type": "display_data"
    },
    {
     "data": {
      "image/png": "[encoded data removed]",
      "text/plain": [
       "<matplotlib.figure.Figure at 0x7f3b5685a0b8>"
      ]
     },
     "metadata": {},
     "output_type": "display_data"
    },
    {
     "data": {
      "image/png": "[encoded data removed]",
      "text/plain": [
       "<matplotlib.figure.Figure at 0x7f3b5547b390>"
      ]
     },
     "metadata": {},
     "output_type": "display_data"
    },
    {
     "data": {
      "image/png": "[encoded data removed]",
      "text/plain": [
       "<matplotlib.figure.Figure at 0x7f3b55c46860>"
      ]
     },
     "metadata": {},
     "output_type": "display_data"
    },
    {
     "data": {
      "image/png": "[encoded data removed]",
      "text/plain": [
       "<matplotlib.figure.Figure at 0x7f3b55677a58>"
      ]
     },
     "metadata": {},
     "output_type": "display_data"
    },
    {
     "data": {
      "image/png": "[encoded data removed]",
      "text/plain": [
       "<matplotlib.figure.Figure at 0x7f3b56617a90>"
      ]
     },
     "metadata": {},
     "output_type": "display_data"
    },
    {
     "data": {
      "image/png": "[encoded data removed]",
      "text/plain": [
       "<matplotlib.figure.Figure at 0x7f3b56562828>"
      ]
     },
     "metadata": {},
     "output_type": "display_data"
    },
    {
     "data": {
      "image/png": "[encoded data removed]",
      "text/plain": [
       "<matplotlib.figure.Figure at 0x7f3b561521d0>"
      ]
     },
     "metadata": {},
     "output_type": "display_data"
    },
    {
     "data": {
      "image/png": "[encoded data removed]",
      "text/plain": [
       "<matplotlib.figure.Figure at 0x7f3b5672c7b8>"
      ]
     },
     "metadata": {},
     "output_type": "display_data"
    },
    {
     "data": {
      "image/png": "[encoded data removed]",
      "text/plain": [
       "<matplotlib.figure.Figure at 0x7f3b555089e8>"
      ]
     },
     "metadata": {},
     "output_type": "display_data"
    },
    {
     "data": {
      "image/png": "[encoded data removed]",
      "text/plain": [
       "<matplotlib.figure.Figure at 0x7f3b55508978>"
      ]
     },
     "metadata": {},
     "output_type": "display_data"
    },
    {
     "data": {
      "image/png": "[encoded data removed]",
      "text/plain": [
       "<matplotlib.figure.Figure at 0x7f3b56753c18>"
      ]
     },
     "metadata": {},
     "output_type": "display_data"
    },
    {
     "data": {
      "image/png": "[encoded data removed]",
      "text/plain": [
       "<matplotlib.figure.Figure at 0x7f3b5645d828>"
      ]
     },
     "metadata": {},
     "output_type": "display_data"
    },
    {
     "data": {
      "image/png": "[encoded data removed]",
      "text/plain": [
       "<matplotlib.figure.Figure at 0x7f3b55e92c50>"
      ]
     },
     "metadata": {},
     "output_type": "display_data"
    },
    {
     "data": {
      "image/png": "[encoded data removed]",
      "text/plain": [
       "<matplotlib.figure.Figure at 0x7f3b55e72a20>"
      ]
     },
     "metadata": {},
     "output_type": "display_data"
    },
    {
     "data": {
      "image/png": "[encoded data removed]",
      "text/plain": [
       "<matplotlib.figure.Figure at 0x7f3b56782668>"
      ]
     },
     "metadata": {},
     "output_type": "display_data"
    },
    {
     "data": {
      "image/png": "[encoded data removed]",
      "text/plain": [
       "<matplotlib.figure.Figure at 0x7f3b55651b70>"
      ]
     },
     "metadata": {},
     "output_type": "display_data"
    },
    {
     "data": {
      "image/png": "[encoded data removed]",
      "text/plain": [
       "<matplotlib.figure.Figure at 0x7f3b56371518>"
      ]
     },
     "metadata": {},
     "output_type": "display_data"
    },
    {
     "data": {
      "image/png": "[encoded data removed]",
      "text/plain": [
       "<matplotlib.figure.Figure at 0x7f3b55964940>"
      ]
     },
     "metadata": {},
     "output_type": "display_data"
    },
    {
     "data": {
      "image/png": "[encoded data removed]",
      "text/plain": [
       "<matplotlib.figure.Figure at 0x7f3b55e2ba90>"
      ]
     },
     "metadata": {},
     "output_type": "display_data"
    },
    {
     "data": {
      "image/png": "[encoded data removed]",
      "text/plain": [
       "<matplotlib.figure.Figure at 0x7f3b55d536a0>"
      ]
     },
     "metadata": {},
     "output_type": "display_data"
    },
    {
     "data": {
      "image/png": "[encoded data removed]",
      "text/plain": [
       "<matplotlib.figure.Figure at 0x7f3b554d4278>"
      ]
     },
     "metadata": {},
     "output_type": "display_data"
    },
    {
     "data": {
      "image/png": "[encoded data removed]",
      "text/plain": [
       "<matplotlib.figure.Figure at 0x7f3b55e109b0>"
      ]
     },
     "metadata": {},
     "output_type": "display_data"
    },
    {
     "data": {
      "image/png": "[encoded data removed]",
      "text/plain": [
       "<matplotlib.figure.Figure at 0x7f3b56692eb8>"
      ]
     },
     "metadata": {},
     "output_type": "display_data"
    },
    {
     "data": {
      "image/png": "[encoded data removed]",
      "text/plain": [
       "<matplotlib.figure.Figure at 0x7f3b55a1acc0>"
      ]
     },
     "metadata": {},
     "output_type": "display_data"
    },
    {
     "data": {
      "image/png": "[encoded data removed]",
      "text/plain": [
       "<matplotlib.figure.Figure at 0x7f3b5668a208>"
      ]
     },
     "metadata": {},
     "output_type": "display_data"
    },
    {
     "data": {
      "image/png": "[encoded data removed]",
      "text/plain": [
       "<matplotlib.figure.Figure at 0x7f3b55ae4208>"
      ]
     },
     "metadata": {},
     "output_type": "display_data"
    }
   ],
   "source": [
    "from __future__ import print_function\n",
    "\n",
    "t=tower(l=5,w=3,n=10)\n",
    "t.run()"
   ]
  },
  {
   "cell_type": "code",
   "execution_count": 16,
   "metadata": {},
   "outputs": [
    {
     "name": "stdout",
     "output_type": "stream",
     "text": [
      "proportion of area occupied =  1.0\n"
     ]
    }
   ],
   "source": [
    "print('proportion of area occupied = ',t.stats())"
   ]
  },
  {
   "cell_type": "code",
   "execution_count": 18,
   "metadata": {
    "collapsed": true
   },
   "outputs": [],
   "source": [
    "p=tower()"
   ]
  },
  {
   "cell_type": "code",
   "execution_count": 19,
   "metadata": {},
   "outputs": [
    {
     "data": {
      "text/plain": [
       "0.0"
      ]
     },
     "execution_count": 19,
     "metadata": {},
     "output_type": "execute_result"
    }
   ],
   "source": [
    "p.stats()"
   ]
  },
  {
   "cell_type": "markdown",
   "metadata": {},
   "source": [
    "### Number of required towers for full coverage for a given (w,l)\n",
    "\n",
    "For this task I use the law of large numbers, i.e I repeat the experiment multiple times for a given w,l pair and each time I start with n=1 and keep increaing it till I see the smallest value of n for which we get full coverage and store that value, I do this multiple times and then find the average of these which will be agood estimate for the actual average number of towers required. We can see the code below."
   ]
  },
  {
   "cell_type": "code",
   "execution_count": 32,
   "metadata": {
    "collapsed": true
   },
   "outputs": [],
   "source": [
    "def find_average_n(w,l):\n",
    "    import math\n",
    "    lis=[]\n",
    "    for i in range(1000):#running the experiment 1000 times\n",
    "        num=1\n",
    "        while(1):\n",
    "            p=tower(w=w,l=l,n=num,plot=False)\n",
    "            p.run()\n",
    "            if p.stats()==1.0:\n",
    "                lis.append(num)\n",
    "                break\n",
    "            num+=1\n",
    "    return math.ceil(sum(lis)*1.0/len(lis))"
   ]
  },
  {
   "cell_type": "code",
   "execution_count": 33,
   "metadata": {
    "scrolled": true
   },
   "outputs": [
    {
     "data": {
      "text/plain": [
       "9"
      ]
     },
     "execution_count": 33,
     "metadata": {},
     "output_type": "execute_result"
    }
   ],
   "source": [
    "find_average_n(5,3)"
   ]
  },
  {
   "cell_type": "code",
   "execution_count": 34,
   "metadata": {},
   "outputs": [
    {
     "data": {
      "text/plain": [
       "9"
      ]
     },
     "execution_count": 34,
     "metadata": {},
     "output_type": "execute_result"
    }
   ],
   "source": [
    "find_average_n(3,5)"
   ]
  },
  {
   "cell_type": "code",
   "execution_count": 35,
   "metadata": {},
   "outputs": [
    {
     "data": {
      "text/plain": [
       "9"
      ]
     },
     "execution_count": 35,
     "metadata": {},
     "output_type": "execute_result"
    }
   ],
   "source": [
    "find_average_n(3,5)"
   ]
  },
  {
   "cell_type": "markdown",
   "metadata": {},
   "source": [
    "_We can see that both w=5,l=3  and w=3 and l=5 have similar values and that is what we would expect due to the symmetry_ "
   ]
  },
  {
   "cell_type": "code",
   "execution_count": 36,
   "metadata": {},
   "outputs": [
    {
     "data": {
      "text/plain": [
       "16"
      ]
     },
     "execution_count": 36,
     "metadata": {},
     "output_type": "execute_result"
    }
   ],
   "source": [
    "find_average_n(10,5)"
   ]
  },
  {
   "cell_type": "markdown",
   "metadata": {},
   "source": [
    "###  Analysis and trade offs\n",
    "\n",
    "- __Space Complexity__ :\n",
    "\n",
    "        For space complexity we have the two numpy arrays storing the information about the region, the first one is grid (w+1)x(l+1) and the second one is overlap_grid(wxl) although the array grid is not used in run() and costs a lot of memory it is very useful for debugging and printing out the checking so I chose to stick with it any ways it does not change the space complexity, in addition to these we have two lists for storing n rectangles and n colors, so al together the space comlexity is O(wxl)\n",
    " \n",
    "- __Time Complexity__ :\n",
    "\n",
    "        For time complexity I am reporting the individual functions's time complexities because in a few cases like the sapmling function for length and breadth we will have random time, we would have to take the expectation of the time complexity so i did not do it. The check_overlap() will take O(wxl) (as in worst case it has to check all the overlap_grid()), update_values() also similarly will take O(wxl), trim() will take O(w^2^ x l^2^) as we list out all possible sub rectangles. (As n rectangles are inserted I would expect the overall complexity to behave similar to O(nx w^2^ x l^2^)).\n",
    "        \n",
    "- __Trade offs__ :\n",
    "          \n",
    "- We are using a brute force method to find the optimal sub rectangle, hence we have a high time complexity but on the other hand this offers a straigh forward and intuitive solution to the problem at hand and importantly as n,w,l will not be too huge it is all right to use this approach for practical cases.\n",
    "        \n",
    "- While sampling the length and breadth we can come up with conditions like using constraints on the distribution etc to avoid resampling for valid dimensions but yet this resampling technique was chosen rather than constraining the distribution at each stage as it is much easier and serves the purpose well and avoids unnecessary complicated and at times unintuitve steps.\n",
    "        \n",
    "- There are other methods that I considered for checking overlap like having a contour for the boundary represented by values '2' in the grid and all inteior poins by 1 but this was failing in a few corner cases and after many other modifications the problem still persisted so I moved on to using the overlap_grid array variable for simple overlap checking.\n",
    "        \n",
    "- There were a few things I conidered doing like currently all the unit square regions in the interior have value 1, it is possible to have different values for regions corresponding to different tower footprints. I did not implement it though because we are any visualizing it in a very clear  way and that info is stored in the rectangles list.\n",
    "\n",
    "- We can see that the function for calculating the average number of towers required for full coverage gives consostent and meaningful results, we saw in the above example that  both w=5,l=3  and w=3 and l=5 have similar values and that is what we would expect due to the symmetry. Also the value is consistently around 9 when checked multiple times and further when we ran the simulation above for n=10 we did get full coverage! We can also see that for w=10,l=5 the value of required n rose to 16.\n",
    "\n",
    "- One limitation is that as the time complexity is high it would be difficult to scale up to lage values of inputs w,l,n\n",
    "\n",
    "- Sometimes it gets difficult for the left side of the rectangle to be filled especially for the top left corner as for that to be filled the corner has to be (0,0)\n",
    "\n",
    "- Sometimes initially tself we can get big rectangles and thus we might actually get the entire region covered before number of towers becomes n, and from then on now new tower would add any extra information so to account  for such cases I stop the simulation as soon the proportion of are coveered becomes 1.0"
   ]
  },
  {
   "cell_type": "code",
   "execution_count": null,
   "metadata": {
    "collapsed": true
   },
   "outputs": [],
   "source": []
  }
 ],
 "metadata": {
  "kernelspec": {
   "display_name": "Python 3",
   "language": "python",
   "name": "python3"
  },
  "language_info": {
   "codemirror_mode": {
    "name": "ipython",
    "version": 3
   },
   "file_extension": ".py",
   "mimetype": "text/x-python",
   "name": "python",
   "nbconvert_exporter": "python",
   "pygments_lexer": "ipython3",
   "version": "3.5.4"
  }
 },
 "nbformat": 4,
 "nbformat_minor": 2
}
